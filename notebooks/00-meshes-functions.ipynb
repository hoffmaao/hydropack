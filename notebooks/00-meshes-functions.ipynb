{
 "cells": [
  {
   "cell_type": "code",
   "execution_count": 1,
   "id": "f08e2554-9e38-46ad-9b8a-dab2b14ced84",
   "metadata": {},
   "outputs": [
    {
     "name": "stderr",
     "output_type": "stream",
     "text": [
      "firedrake:WARNING OMP_NUM_THREADS is not set or is set to a value greater than 1, we suggest setting OMP_NUM_THREADS=1 to improve performance\n"
     ]
    }
   ],
   "source": [
    "import firedrake\n",
    "Lx, Ly = 60e3, 20e3\n",
    "nx, ny = 48, 32\n",
    "mesh = firedrake.RectangleMesh(nx, ny, Lx, Ly)"
   ]
  },
  {
   "cell_type": "code",
   "execution_count": 3,
   "id": "a83ff161-6598-4158-8d50-12e5b134f23e",
   "metadata": {},
   "outputs": [],
   "source": [
    "U = firedrake.FunctionSpace(mesh, \"CG\", 1)\n",
    "CR = firedrake.VectorFunctionSpace(mesh, \"CR\", 1)"
   ]
  },
  {
   "cell_type": "code",
   "execution_count": 8,
   "id": "319e1074-b65a-4ca2-9dcc-e6ae6a0bbd11",
   "metadata": {},
   "outputs": [],
   "source": [
    "x, y = firedrake.SpatialCoordinate(mesh)"
   ]
  },
  {
   "cell_type": "code",
   "execution_count": 15,
   "id": "88411afb-ba57-4b26-9d0e-2031568cf06e",
   "metadata": {},
   "outputs": [],
   "source": [
    "bcs = firedrake.DirichletBC(U, firedrake.Constant(0.0), [1,2,3,4])"
   ]
  },
  {
   "cell_type": "code",
   "execution_count": null,
   "id": "79ae4f5f-f198-4cc3-afdf-1f293fc243b4",
   "metadata": {},
   "outputs": [],
   "source": []
  }
 ],
 "metadata": {
  "kernelspec": {
   "display_name": "firedrake",
   "language": "python",
   "name": "firedrake"
  },
  "language_info": {
   "codemirror_mode": {
    "name": "ipython",
    "version": 3
   },
   "file_extension": ".py",
   "mimetype": "text/x-python",
   "name": "python",
   "nbconvert_exporter": "python",
   "pygments_lexer": "ipython3",
   "version": "3.8.10"
  }
 },
 "nbformat": 4,
 "nbformat_minor": 5
}
