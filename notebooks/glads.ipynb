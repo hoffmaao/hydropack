{
 "cells": [
  {
   "cell_type": "code",
   "execution_count": 6,
   "id": "79fb9d3c-3f6a-4e30-9d7c-2b4c28352702",
   "metadata": {},
   "outputs": [
    {
     "ename": "SyntaxError",
     "evalue": "invalid syntax (phi_solver.py, line 114)",
     "output_type": "error",
     "traceback": [
      "Traceback \u001b[0;36m(most recent call last)\u001b[0m:\n",
      "\u001b[0m  File \u001b[1;32m~/firedrake/lib/python3.8/site-packages/IPython/core/interactiveshell.py:3508\u001b[0m in \u001b[1;35mrun_code\u001b[0m\n    exec(code_obj, self.user_global_ns, self.user_ns)\u001b[0m\n",
      "\u001b[0m  Cell \u001b[1;32mIn[6], line 7\u001b[0m\n    from hydropack.models.glads import *\u001b[0m\n",
      "\u001b[0;36m  File \u001b[0;32m~/hydropack/src/hydropack/models/glads.py:17\u001b[0;36m\n\u001b[0;31m    from hydropack.solvers.phi_solver import *\u001b[0;36m\n",
      "\u001b[0;36m  File \u001b[0;32m~/hydropack/src/hydropack/solvers/phi_solver.py:114\u001b[0;36m\u001b[0m\n\u001b[0;31m    pw = phi - phi_m\u001b[0m\n\u001b[0m    ^\u001b[0m\n\u001b[0;31mSyntaxError\u001b[0m\u001b[0;31m:\u001b[0m invalid syntax\n"
     ]
    }
   ],
   "source": [
    "%matplotlib notebook\n",
    "import firedrake\n",
    "from firedrake import *\n",
    "import matplotlib.pyplot as plt\n",
    "import numpy as np\n",
    "from hydropack.constants import *\n",
    "from hydropack.models.glads import *"
   ]
  },
  {
   "cell_type": "code",
   "execution_count": null,
   "id": "2cec3115-79e4-4b27-8011-7fd157e31f1e",
   "metadata": {},
   "outputs": [],
   "source": [
    "in_dir = \"inputs_slope/\"\n",
    "# Output directory\n",
    "out_dir = \"out/\"\n",
    "# Process number\n",
    "MPI_rank = MPI.rank(mpi_comm_world())\n",
    "\n",
    "# Load mesh and create function spaces\n",
    "mesh = Mesh(in_dir + \"mesh.xml\")\n",
    "V_cg = FunctionSpace(mesh, \"CG\", 1)\n",
    "V_cr = FunctionSpace(mesh, \"CR\", 1)"
   ]
  },
  {
   "cell_type": "code",
   "execution_count": null,
   "id": "a2396346-d715-41c2-b60d-a3b5f255d641",
   "metadata": {},
   "outputs": [],
   "source": [
    "# Initial sheet height\n",
    "h_init = Function(V_cg)\n",
    "h_init.interpolate(Constant(0.05))"
   ]
  },
  {
   "cell_type": "code",
   "execution_count": null,
   "id": "5b4be181-ff6d-49ff-9a4f-945f21be80ab",
   "metadata": {},
   "outputs": [],
   "source": [
    "# Initial channel areas\n",
    "S_init = Function(V_cr)\n",
    "\n",
    "# Initial potential\n",
    "phi_init = Function(V_cg)\n",
    "File(in_dir + \"phi_0.xml\") >> phi_init\n",
    "\n",
    "# Load the boundary facet function\n",
    "boundaries = FacetFunction('size_t', mesh)\n",
    "File(in_dir + \"boundaries.xml\") >> boundaries\n",
    "\n",
    "# Load potential at 0 pressure\n",
    "phi_m = Function(V_cg)\n",
    "File(in_dir + \"phi_m.xml\") >> phi_m\n",
    "\n",
    "# Enforce 0 pressure bc at margin\n",
    "bc = DirichletBC(V_cg, phi_m, boundaries, 1)\n"
   ]
  },
  {
   "cell_type": "code",
   "execution_count": null,
   "id": "41f14715-c848-4a45-a184-29f7ff038e0a",
   "metadata": {},
   "outputs": [],
   "source": [
    "model_inputs = {}\n",
    "model_inputs['mesh'] = mesh\n",
    "model_inputs['h_init'] = h_init\n",
    "model_inputs['S_init'] = S_init\n",
    "model_inputs['phi_init'] = phi_init\n",
    "model_inputs['d_bcs'] = [bc]\n",
    "model_inputs['maps_dir'] = in_dir + \"maps/\"\n",
    "model_inputs['out_dir'] = out_dir\n",
    "\n",
    "# Create the Glads model\n",
    "model = Glads(model_inputs, in_dir)"
   ]
  },
  {
   "cell_type": "code",
   "execution_count": null,
   "id": "9f68552a-1044-463b-8c6b-741519f2fe94",
   "metadata": {},
   "outputs": [],
   "source": [
    "# Seconds per day\n",
    "spd = pcs['spd']\n",
    "# End time\n",
    "T = 10.0 * spd\n",
    "# Time step\n",
    "dt = 60.0 * 30.0\n",
    "# Irataion count\n",
    "i = 0\n",
    "\n",
    "while model.t < T:\n",
    "  if MPI_rank == 0: \n",
    "    current_time = model.t / spd\n",
    "    print \"Current Time: \" + str(current_time)\n",
    "  \n",
    "  model.step(dt)\n",
    "  \n",
    "  if i % 24 == 0:\n",
    "    model.write_pvds()\n",
    "  \n",
    "  if MPI_rank == 0: \n",
    "    print"
   ]
  }
 ],
 "metadata": {
  "kernelspec": {
   "display_name": "firedrake",
   "language": "python",
   "name": "firedrake"
  },
  "language_info": {
   "codemirror_mode": {
    "name": "ipython",
    "version": 3
   },
   "file_extension": ".py",
   "mimetype": "text/x-python",
   "name": "python",
   "nbconvert_exporter": "python",
   "pygments_lexer": "ipython3",
   "version": "3.8.10"
  }
 },
 "nbformat": 4,
 "nbformat_minor": 5
}
